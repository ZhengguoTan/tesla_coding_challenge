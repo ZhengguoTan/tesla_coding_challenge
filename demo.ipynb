{
 "cells": [
  {
   "cell_type": "markdown",
   "metadata": {},
   "source": [
    "Name: Zhengguo Tan\n",
    "\n",
    "I am originally from China, did my bachelor in Zhejiang University, and then my Master degree in Duke University, USA.\n",
    "\n",
    "I obtained my PhD in 2016 on the subject of medical physics, specialized in magnetic resonance imaging (MRI), in Max-Planck-Institute.\n",
    "\n",
    "I have many years experience in medical image analysis and image reconstruction. \n",
    "I have also learnt MRI pulse sequence programming skills, i.e. to program the MRI machine to obtain medical images with specific contrast, acquisition time, or biophysical quantities.\n",
    "\n",
    "I know several programming languages, C/C++, Matlab/Python, CUDA, Bash scripts, etc."
   ]
  },
  {
   "cell_type": "code",
   "execution_count": null,
   "metadata": {},
   "outputs": [],
   "source": [
    "import sys\n",
    "sys.path.insert(0, '/home/ztan/Tesla')\n",
    "\n",
    "import time\n",
    "\n",
    "import code_challenge as cc"
   ]
  },
  {
   "cell_type": "markdown",
   "metadata": {},
   "source": [
    "# Step 1"
   ]
  },
  {
   "cell_type": "markdown",
   "metadata": {},
   "source": [
    "## Task 1\n",
    "\n",
    "    * load the results of the API call into a variable\n",
    "    * retrieve 40 markets"
   ]
  },
  {
   "cell_type": "code",
   "execution_count": null,
   "metadata": {},
   "outputs": [],
   "source": [
    "part1_step1_values = cc.part1_step1_task1()"
   ]
  },
  {
   "cell_type": "code",
   "execution_count": null,
   "metadata": {},
   "outputs": [],
   "source": [
    "part1_step1_values"
   ]
  },
  {
   "cell_type": "markdown",
   "metadata": {},
   "source": [
    "## Task 2\n",
    "\n",
    "    * convert the data from JSON format into tabular form\n",
    "    * select only the specified fields"
   ]
  },
  {
   "cell_type": "code",
   "execution_count": null,
   "metadata": {},
   "outputs": [],
   "source": [
    "part1_step1_tab2 = cc.part1_step1_task2(part1_step1_values)"
   ]
  },
  {
   "cell_type": "markdown",
   "metadata": {},
   "source": [
    "## Task 3\n",
    "\n",
    "    * ONLY keep those that have had a trade volume_last_24_hours\n",
    "    * If there is more than one market per base asset (base_asset_symbol), keep the one with the larger volume"
   ]
  },
  {
   "cell_type": "code",
   "execution_count": null,
   "metadata": {},
   "outputs": [],
   "source": [
    "part1_step1_tab3 = cc.part1_step1_task3(part1_step1_values, display=True)"
   ]
  },
  {
   "cell_type": "markdown",
   "metadata": {},
   "source": [
    "## Task 4\n",
    "\n",
    "    * create an SQL table named ‘market_info’ in our database\n",
    "    * upload the data above to the market_info table"
   ]
  },
  {
   "cell_type": "code",
   "execution_count": null,
   "metadata": {},
   "outputs": [],
   "source": [
    "cc.part1_step1_task4(part1_step1_tab3)"
   ]
  },
  {
   "cell_type": "markdown",
   "metadata": {},
   "source": [
    "# Step 2"
   ]
  },
  {
   "cell_type": "markdown",
   "metadata": {},
   "source": [
    "### Task 1\n",
    "\n",
    "    * fetch the information for 30 assets via an API\n",
    "call\n",
    "\n",
    "### Task 2\n",
    "\n",
    "    * Convert the JSON output into the tabular form needed to upload into our database\n",
    "\n",
    "### Task 3\n",
    "\n",
    "    * Only keep those assets, which are also a base asset of the 40 markets extracted in Step 1 \n",
    "    * upload this data to a new table called asset_info"
   ]
  },
  {
   "cell_type": "code",
   "execution_count": null,
   "metadata": {},
   "outputs": [],
   "source": [
    "cc.part1_step2(part1_step1_tab3, 'replace')"
   ]
  },
  {
   "cell_type": "markdown",
   "metadata": {},
   "source": [
    "# Part 2"
   ]
  },
  {
   "cell_type": "code",
   "execution_count": null,
   "metadata": {},
   "outputs": [],
   "source": [
    "for num_calls in range(10):\n",
    "\n",
    "    time.sleep(60)\n",
    "    cc.part1_step2(part1_step1_tab3, 'append')"
   ]
  }
 ],
 "metadata": {
  "interpreter": {
   "hash": "31f2aee4e71d21fbe5cf8b01ff0e069b9275f58929596ceb00d14d90e3e16cd6"
  },
  "kernelspec": {
   "display_name": "Python 3.8.10 64-bit",
   "language": "python",
   "name": "python3"
  },
  "language_info": {
   "codemirror_mode": {
    "name": "ipython",
    "version": 3
   },
   "file_extension": ".py",
   "mimetype": "text/x-python",
   "name": "python",
   "nbconvert_exporter": "python",
   "pygments_lexer": "ipython3",
   "version": "3.8.10"
  },
  "orig_nbformat": 4
 },
 "nbformat": 4,
 "nbformat_minor": 2
}
